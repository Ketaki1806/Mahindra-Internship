{
 "cells": [
  {
   "cell_type": "code",
   "execution_count": 1,
   "metadata": {},
   "outputs": [],
   "source": [
    "import pymongo\n",
    "import pandas as pd\n",
    "import json\n",
    "import numpy as np\n",
    "import matplotlib.pyplot as plt\n",
    "from matplotlib.pyplot import figure"
   ]
  },
  {
   "cell_type": "code",
   "execution_count": 2,
   "metadata": {},
   "outputs": [],
   "source": [
    "client = pymongo.MongoClient(\"mongodb://localhost:27017\")"
   ]
  },
  {
   "cell_type": "code",
   "execution_count": 3,
   "metadata": {},
   "outputs": [],
   "source": [
    "file = \"dataset.csv\""
   ]
  },
  {
   "cell_type": "code",
   "execution_count": 4,
   "metadata": {},
   "outputs": [],
   "source": [
    "db = client[\"Dataset_mongo\"]"
   ]
  },
  {
   "cell_type": "code",
   "execution_count": 5,
   "metadata": {},
   "outputs": [],
   "source": [
    "dataset = db['Dataset']"
   ]
  },
  {
   "cell_type": "markdown",
   "metadata": {},
   "source": [
    "Function to find time differnence"
   ]
  },
  {
   "cell_type": "code",
   "execution_count": 6,
   "metadata": {},
   "outputs": [],
   "source": [
    "import datetime\n",
    "import dateutil.parser\n",
    "def find_time_sec(ndate,udate):\n",
    "    ndate = dateutil.parser.parse(ndate)\n",
    "    udate = dateutil.parser.parse(udate)\n",
    "    diff_time = ndate - udate\n",
    "    diff = str(diff_time)\n",
    "    time_lst = diff.split(':')\n",
    "    sec = time_lst[2].split('.')\n",
    "    x = diff.find('.')\n",
    "    if x != -1:\n",
    "        time_in_seconds = int(time_lst[0])*3600 + int(time_lst[1])*60 + int(sec[0]) + int(sec[1])/1000000\n",
    "    else:\n",
    "        time_in_seconds = int(time_lst[0])*3600 + int(time_lst[1])*60 + int(time_lst[2])\n",
    "    return time_in_seconds"
   ]
  },
  {
   "cell_type": "markdown",
   "metadata": {},
   "source": [
    "Inputs"
   ]
  },
  {
   "cell_type": "code",
   "execution_count": 7,
   "metadata": {},
   "outputs": [],
   "source": [
    "start_time = '2021-03-23T04:20:16.500Z'\n",
    "end_time = '2021-03-23T05:20:16.500Z'\n",
    "main_program_signal = 'MainProgram_path1_OP20MAKINO_861'\n",
    "signal_name = 'ServoLoad_2_path1_OP20MAKINO_861'\n",
    "main_program = '//CNC_MEM/USER/LIBRARY/O2100'\n",
    "machine_name = 'OP20MAKINO_861'"
   ]
  },
  {
   "cell_type": "markdown",
   "metadata": {},
   "source": [
    "Finding values of main program in given time"
   ]
  },
  {
   "cell_type": "code",
   "execution_count": 8,
   "metadata": {},
   "outputs": [],
   "source": [
    "query = dataset.find({\"$and\":[{\"updatedate\":{\"$gte\":start_time}}, #O2100\n",
    "                            {\"enddate\":{\"$lte\":end_time}},\n",
    "                            {\"signalname\":{'$eq':main_program_signal}},\n",
    "                            {\"L1Name\":{'$eq':machine_name}}\n",
    "                           ]},\n",
    "                  {\"updatedate\":1,\"enddate\":1,\"timespan\":1,\"signalname\":1,\"value\":1})\n",
    "list_main_prog = list(query)\n",
    "main_prog = pd.DataFrame(list_main_prog)"
   ]
  },
  {
   "cell_type": "code",
   "execution_count": 9,
   "metadata": {},
   "outputs": [
    {
     "data": {
      "text/html": [
       "<div>\n",
       "<style scoped>\n",
       "    .dataframe tbody tr th:only-of-type {\n",
       "        vertical-align: middle;\n",
       "    }\n",
       "\n",
       "    .dataframe tbody tr th {\n",
       "        vertical-align: top;\n",
       "    }\n",
       "\n",
       "    .dataframe thead th {\n",
       "        text-align: right;\n",
       "    }\n",
       "</style>\n",
       "<table border=\"1\" class=\"dataframe\">\n",
       "  <thead>\n",
       "    <tr style=\"text-align: right;\">\n",
       "      <th></th>\n",
       "      <th>_id</th>\n",
       "      <th>updatedate</th>\n",
       "      <th>enddate</th>\n",
       "      <th>timespan</th>\n",
       "      <th>signalname</th>\n",
       "      <th>value</th>\n",
       "    </tr>\n",
       "  </thead>\n",
       "  <tbody>\n",
       "    <tr>\n",
       "      <td>0</td>\n",
       "      <td>60596e4e18e2863a9487a859</td>\n",
       "      <td>2021-03-23T04:25:19.500Z</td>\n",
       "      <td>2021-03-23T04:27:58.000Z</td>\n",
       "      <td>158.5</td>\n",
       "      <td>MainProgram_path1_OP20MAKINO_861</td>\n",
       "      <td>//CNC_MEM/USER/LIBRARY/O1000</td>\n",
       "    </tr>\n",
       "    <tr>\n",
       "      <td>1</td>\n",
       "      <td>60596f8018e2863a94891a85</td>\n",
       "      <td>2021-03-23T04:27:58.000Z</td>\n",
       "      <td>2021-03-23T04:33:04.000Z</td>\n",
       "      <td>306.0</td>\n",
       "      <td>MainProgram_path1_OP20MAKINO_861</td>\n",
       "      <td>//CNC_MEM/USER/LIBRARY/O2100</td>\n",
       "    </tr>\n",
       "    <tr>\n",
       "      <td>2</td>\n",
       "      <td>6059700f18e2863a9489a652</td>\n",
       "      <td>2021-03-23T04:33:04.000Z</td>\n",
       "      <td>2021-03-23T04:35:27.500Z</td>\n",
       "      <td>143.5</td>\n",
       "      <td>MainProgram_path1_OP20MAKINO_861</td>\n",
       "      <td>//CNC_MEM/USER/LIBRARY/O1000</td>\n",
       "    </tr>\n",
       "    <tr>\n",
       "      <td>3</td>\n",
       "      <td>6059713f18e2863a948b121e</td>\n",
       "      <td>2021-03-23T04:35:27.500Z</td>\n",
       "      <td>2021-03-23T04:40:30.500Z</td>\n",
       "      <td>303.0</td>\n",
       "      <td>MainProgram_path1_OP20MAKINO_861</td>\n",
       "      <td>//CNC_MEM/USER/LIBRARY/O2100</td>\n",
       "    </tr>\n",
       "    <tr>\n",
       "      <td>4</td>\n",
       "      <td>605971b418e2863a948b8e47</td>\n",
       "      <td>2021-03-23T04:40:30.500Z</td>\n",
       "      <td>2021-03-23T04:42:28.000Z</td>\n",
       "      <td>117.5</td>\n",
       "      <td>MainProgram_path1_OP20MAKINO_861</td>\n",
       "      <td>//CNC_MEM/USER/LIBRARY/O1000</td>\n",
       "    </tr>\n",
       "    <tr>\n",
       "      <td>5</td>\n",
       "      <td>6059724318e2863a948c4e80</td>\n",
       "      <td>2021-03-23T04:42:28.000Z</td>\n",
       "      <td>2021-03-23T04:44:51.000Z</td>\n",
       "      <td>143.0</td>\n",
       "      <td>MainProgram_path1_OP20MAKINO_861</td>\n",
       "      <td>//CNC_MEM/USER/LIBRARY/O2100</td>\n",
       "    </tr>\n",
       "    <tr>\n",
       "      <td>6</td>\n",
       "      <td>6059725c18e28600b8b154f4</td>\n",
       "      <td>2021-03-23T04:45:13.000Z</td>\n",
       "      <td>2021-03-23T04:45:16.000Z</td>\n",
       "      <td>3.0</td>\n",
       "      <td>MainProgram_path1_OP20MAKINO_861</td>\n",
       "      <td>NaN</td>\n",
       "    </tr>\n",
       "    <tr>\n",
       "      <td>7</td>\n",
       "      <td>6059725f18e28600b8b16a00</td>\n",
       "      <td>2021-03-23T04:45:16.000Z</td>\n",
       "      <td>2021-03-23T04:45:19.000Z</td>\n",
       "      <td>3.0</td>\n",
       "      <td>MainProgram_path1_OP20MAKINO_861</td>\n",
       "      <td>//CNC_MEM/USER/LIBRARY/O2100</td>\n",
       "    </tr>\n",
       "    <tr>\n",
       "      <td>8</td>\n",
       "      <td>605972ab18e2861d940eb2ff</td>\n",
       "      <td>2021-03-23T04:46:15.000Z</td>\n",
       "      <td>2021-03-23T04:46:35.000Z</td>\n",
       "      <td>20.0</td>\n",
       "      <td>MainProgram_path1_OP20MAKINO_861</td>\n",
       "      <td>NaN</td>\n",
       "    </tr>\n",
       "    <tr>\n",
       "      <td>9</td>\n",
       "      <td>605972e218e2861d940eff17</td>\n",
       "      <td>2021-03-23T04:46:35.000Z</td>\n",
       "      <td>2021-03-23T04:47:30.000Z</td>\n",
       "      <td>55.0</td>\n",
       "      <td>MainProgram_path1_OP20MAKINO_861</td>\n",
       "      <td>//CNC_MEM/USER/LIBRARY/O2100</td>\n",
       "    </tr>\n",
       "    <tr>\n",
       "      <td>10</td>\n",
       "      <td>605974c918e2861d9410ce44</td>\n",
       "      <td>2021-03-23T04:47:30.000Z</td>\n",
       "      <td>2021-03-23T04:55:37.000Z</td>\n",
       "      <td>487.0</td>\n",
       "      <td>MainProgram_path1_OP20MAKINO_861</td>\n",
       "      <td>//CNC_MEM/USER/LIBRARY/O1000</td>\n",
       "    </tr>\n",
       "    <tr>\n",
       "      <td>11</td>\n",
       "      <td>605975fc18e2861d9412309a</td>\n",
       "      <td>2021-03-23T04:55:37.000Z</td>\n",
       "      <td>2021-03-23T05:00:44.000Z</td>\n",
       "      <td>307.0</td>\n",
       "      <td>MainProgram_path1_OP20MAKINO_861</td>\n",
       "      <td>//CNC_MEM/USER/LIBRARY/O2100</td>\n",
       "    </tr>\n",
       "    <tr>\n",
       "      <td>12</td>\n",
       "      <td>6059769d18e2861d9412c1ce</td>\n",
       "      <td>2021-03-23T05:00:44.000Z</td>\n",
       "      <td>2021-03-23T05:03:25.500Z</td>\n",
       "      <td>161.5</td>\n",
       "      <td>MainProgram_path1_OP20MAKINO_861</td>\n",
       "      <td>//CNC_MEM/USER/LIBRARY/O1000</td>\n",
       "    </tr>\n",
       "    <tr>\n",
       "      <td>13</td>\n",
       "      <td>605977cc18e2861d9413dcb7</td>\n",
       "      <td>2021-03-23T05:03:25.500Z</td>\n",
       "      <td>2021-03-23T05:08:28.500Z</td>\n",
       "      <td>303.0</td>\n",
       "      <td>MainProgram_path1_OP20MAKINO_861</td>\n",
       "      <td>//CNC_MEM/USER/LIBRARY/O2100</td>\n",
       "    </tr>\n",
       "    <tr>\n",
       "      <td>14</td>\n",
       "      <td>6059784e18e2861d9414551f</td>\n",
       "      <td>2021-03-23T05:08:28.500Z</td>\n",
       "      <td>2021-03-23T05:10:38.500Z</td>\n",
       "      <td>130.0</td>\n",
       "      <td>MainProgram_path1_OP20MAKINO_861</td>\n",
       "      <td>//CNC_MEM/USER/LIBRARY/O1000</td>\n",
       "    </tr>\n",
       "    <tr>\n",
       "      <td>15</td>\n",
       "      <td>6059797f18e2861d9415dad4</td>\n",
       "      <td>2021-03-23T05:10:38.500Z</td>\n",
       "      <td>2021-03-23T05:15:43.500Z</td>\n",
       "      <td>305.0</td>\n",
       "      <td>MainProgram_path1_OP20MAKINO_861</td>\n",
       "      <td>//CNC_MEM/USER/LIBRARY/O2100</td>\n",
       "    </tr>\n",
       "    <tr>\n",
       "      <td>16</td>\n",
       "      <td>605979ea18e2861d94165ad7</td>\n",
       "      <td>2021-03-23T05:15:43.500Z</td>\n",
       "      <td>2021-03-23T05:17:30.500Z</td>\n",
       "      <td>107.0</td>\n",
       "      <td>MainProgram_path1_OP20MAKINO_861</td>\n",
       "      <td>//CNC_MEM/USER/LIBRARY/O1000</td>\n",
       "    </tr>\n",
       "  </tbody>\n",
       "</table>\n",
       "</div>"
      ],
      "text/plain": [
       "                         _id                updatedate  \\\n",
       "0   60596e4e18e2863a9487a859  2021-03-23T04:25:19.500Z   \n",
       "1   60596f8018e2863a94891a85  2021-03-23T04:27:58.000Z   \n",
       "2   6059700f18e2863a9489a652  2021-03-23T04:33:04.000Z   \n",
       "3   6059713f18e2863a948b121e  2021-03-23T04:35:27.500Z   \n",
       "4   605971b418e2863a948b8e47  2021-03-23T04:40:30.500Z   \n",
       "5   6059724318e2863a948c4e80  2021-03-23T04:42:28.000Z   \n",
       "6   6059725c18e28600b8b154f4  2021-03-23T04:45:13.000Z   \n",
       "7   6059725f18e28600b8b16a00  2021-03-23T04:45:16.000Z   \n",
       "8   605972ab18e2861d940eb2ff  2021-03-23T04:46:15.000Z   \n",
       "9   605972e218e2861d940eff17  2021-03-23T04:46:35.000Z   \n",
       "10  605974c918e2861d9410ce44  2021-03-23T04:47:30.000Z   \n",
       "11  605975fc18e2861d9412309a  2021-03-23T04:55:37.000Z   \n",
       "12  6059769d18e2861d9412c1ce  2021-03-23T05:00:44.000Z   \n",
       "13  605977cc18e2861d9413dcb7  2021-03-23T05:03:25.500Z   \n",
       "14  6059784e18e2861d9414551f  2021-03-23T05:08:28.500Z   \n",
       "15  6059797f18e2861d9415dad4  2021-03-23T05:10:38.500Z   \n",
       "16  605979ea18e2861d94165ad7  2021-03-23T05:15:43.500Z   \n",
       "\n",
       "                     enddate  timespan                        signalname  \\\n",
       "0   2021-03-23T04:27:58.000Z     158.5  MainProgram_path1_OP20MAKINO_861   \n",
       "1   2021-03-23T04:33:04.000Z     306.0  MainProgram_path1_OP20MAKINO_861   \n",
       "2   2021-03-23T04:35:27.500Z     143.5  MainProgram_path1_OP20MAKINO_861   \n",
       "3   2021-03-23T04:40:30.500Z     303.0  MainProgram_path1_OP20MAKINO_861   \n",
       "4   2021-03-23T04:42:28.000Z     117.5  MainProgram_path1_OP20MAKINO_861   \n",
       "5   2021-03-23T04:44:51.000Z     143.0  MainProgram_path1_OP20MAKINO_861   \n",
       "6   2021-03-23T04:45:16.000Z       3.0  MainProgram_path1_OP20MAKINO_861   \n",
       "7   2021-03-23T04:45:19.000Z       3.0  MainProgram_path1_OP20MAKINO_861   \n",
       "8   2021-03-23T04:46:35.000Z      20.0  MainProgram_path1_OP20MAKINO_861   \n",
       "9   2021-03-23T04:47:30.000Z      55.0  MainProgram_path1_OP20MAKINO_861   \n",
       "10  2021-03-23T04:55:37.000Z     487.0  MainProgram_path1_OP20MAKINO_861   \n",
       "11  2021-03-23T05:00:44.000Z     307.0  MainProgram_path1_OP20MAKINO_861   \n",
       "12  2021-03-23T05:03:25.500Z     161.5  MainProgram_path1_OP20MAKINO_861   \n",
       "13  2021-03-23T05:08:28.500Z     303.0  MainProgram_path1_OP20MAKINO_861   \n",
       "14  2021-03-23T05:10:38.500Z     130.0  MainProgram_path1_OP20MAKINO_861   \n",
       "15  2021-03-23T05:15:43.500Z     305.0  MainProgram_path1_OP20MAKINO_861   \n",
       "16  2021-03-23T05:17:30.500Z     107.0  MainProgram_path1_OP20MAKINO_861   \n",
       "\n",
       "                           value  \n",
       "0   //CNC_MEM/USER/LIBRARY/O1000  \n",
       "1   //CNC_MEM/USER/LIBRARY/O2100  \n",
       "2   //CNC_MEM/USER/LIBRARY/O1000  \n",
       "3   //CNC_MEM/USER/LIBRARY/O2100  \n",
       "4   //CNC_MEM/USER/LIBRARY/O1000  \n",
       "5   //CNC_MEM/USER/LIBRARY/O2100  \n",
       "6                            NaN  \n",
       "7   //CNC_MEM/USER/LIBRARY/O2100  \n",
       "8                            NaN  \n",
       "9   //CNC_MEM/USER/LIBRARY/O2100  \n",
       "10  //CNC_MEM/USER/LIBRARY/O1000  \n",
       "11  //CNC_MEM/USER/LIBRARY/O2100  \n",
       "12  //CNC_MEM/USER/LIBRARY/O1000  \n",
       "13  //CNC_MEM/USER/LIBRARY/O2100  \n",
       "14  //CNC_MEM/USER/LIBRARY/O1000  \n",
       "15  //CNC_MEM/USER/LIBRARY/O2100  \n",
       "16  //CNC_MEM/USER/LIBRARY/O1000  "
      ]
     },
     "execution_count": 9,
     "metadata": {},
     "output_type": "execute_result"
    }
   ],
   "source": [
    "main_prog.head(20)"
   ]
  },
  {
   "cell_type": "code",
   "execution_count": 10,
   "metadata": {},
   "outputs": [
    {
     "data": {
      "text/plain": [
       "//CNC_MEM/USER/LIBRARY/O2100    8\n",
       "//CNC_MEM/USER/LIBRARY/O1000    7\n",
       "Name: value, dtype: int64"
      ]
     },
     "execution_count": 10,
     "metadata": {},
     "output_type": "execute_result"
    }
   ],
   "source": [
    "main_prog['value'].value_counts()"
   ]
  },
  {
   "cell_type": "markdown",
   "metadata": {},
   "source": [
    "Find range of signal value +-30% dynamically"
   ]
  },
  {
   "cell_type": "code",
   "execution_count": 11,
   "metadata": {},
   "outputs": [],
   "source": [
    "group_signal = main_prog.groupby('value')\n",
    "group = group_signal.get_group(main_program)\n",
    "median_value = group['timespan'].median()"
   ]
  },
  {
   "cell_type": "code",
   "execution_count": 12,
   "metadata": {},
   "outputs": [],
   "source": [
    "lower_bound = median_value - (30 * median_value)/100\n",
    "upper_bound = median_value + (30 * median_value)/100"
   ]
  },
  {
   "cell_type": "markdown",
   "metadata": {},
   "source": [
    "Finding values of signal in given time"
   ]
  },
  {
   "cell_type": "code",
   "execution_count": 13,
   "metadata": {},
   "outputs": [],
   "source": [
    "query = dataset.find({\"$and\":[{\"updatedate\":{\"$gte\":start_time}}, #O2100\n",
    "                            {\"enddate\":{\"$lte\":end_time}},\n",
    "                            {\"signalname\":{'$eq':signal_name}},\n",
    "                            {\"L1Name\":{'$eq':machine_name}}\n",
    "                           ]},\n",
    "                  {\"updatedate\":1,\"enddate\":1,\"timespan\":1,\"signalname\":1,\"value\":1})\n",
    "list_signal = list(query)\n",
    "signals = pd.DataFrame(list_signal)"
   ]
  },
  {
   "cell_type": "code",
   "execution_count": 14,
   "metadata": {},
   "outputs": [
    {
     "data": {
      "text/html": [
       "<div>\n",
       "<style scoped>\n",
       "    .dataframe tbody tr th:only-of-type {\n",
       "        vertical-align: middle;\n",
       "    }\n",
       "\n",
       "    .dataframe tbody tr th {\n",
       "        vertical-align: top;\n",
       "    }\n",
       "\n",
       "    .dataframe thead th {\n",
       "        text-align: right;\n",
       "    }\n",
       "</style>\n",
       "<table border=\"1\" class=\"dataframe\">\n",
       "  <thead>\n",
       "    <tr style=\"text-align: right;\">\n",
       "      <th></th>\n",
       "      <th>_id</th>\n",
       "      <th>updatedate</th>\n",
       "      <th>enddate</th>\n",
       "      <th>timespan</th>\n",
       "      <th>signalname</th>\n",
       "      <th>value</th>\n",
       "    </tr>\n",
       "  </thead>\n",
       "  <tbody>\n",
       "    <tr>\n",
       "      <td>0</td>\n",
       "      <td>60596c8318e2863a9485bcce</td>\n",
       "      <td>2021-03-23T04:20:16.500Z</td>\n",
       "      <td>2021-03-23T04:20:18.500Z</td>\n",
       "      <td>2.0</td>\n",
       "      <td>ServoLoad_2_path1_OP20MAKINO_861</td>\n",
       "      <td>1.0</td>\n",
       "    </tr>\n",
       "    <tr>\n",
       "      <td>1</td>\n",
       "      <td>60596c8518e2863a9485be69</td>\n",
       "      <td>2021-03-23T04:20:18.500Z</td>\n",
       "      <td>2021-03-23T04:20:21.000Z</td>\n",
       "      <td>2.5</td>\n",
       "      <td>ServoLoad_2_path1_OP20MAKINO_861</td>\n",
       "      <td>13.0</td>\n",
       "    </tr>\n",
       "    <tr>\n",
       "      <td>2</td>\n",
       "      <td>60596c8a18e2863a9485c270</td>\n",
       "      <td>2021-03-23T04:20:21.000Z</td>\n",
       "      <td>2021-03-23T04:20:26.000Z</td>\n",
       "      <td>5.0</td>\n",
       "      <td>ServoLoad_2_path1_OP20MAKINO_861</td>\n",
       "      <td>0.0</td>\n",
       "    </tr>\n",
       "    <tr>\n",
       "      <td>3</td>\n",
       "      <td>60596c8c18e2863a9485c47e</td>\n",
       "      <td>2021-03-23T04:20:26.000Z</td>\n",
       "      <td>2021-03-23T04:20:28.000Z</td>\n",
       "      <td>2.0</td>\n",
       "      <td>ServoLoad_2_path1_OP20MAKINO_861</td>\n",
       "      <td>10.0</td>\n",
       "    </tr>\n",
       "    <tr>\n",
       "      <td>4</td>\n",
       "      <td>60596c8e18e2863a9485c696</td>\n",
       "      <td>2021-03-23T04:20:28.000Z</td>\n",
       "      <td>2021-03-23T04:20:30.000Z</td>\n",
       "      <td>2.0</td>\n",
       "      <td>ServoLoad_2_path1_OP20MAKINO_861</td>\n",
       "      <td>36.0</td>\n",
       "    </tr>\n",
       "  </tbody>\n",
       "</table>\n",
       "</div>"
      ],
      "text/plain": [
       "                        _id                updatedate  \\\n",
       "0  60596c8318e2863a9485bcce  2021-03-23T04:20:16.500Z   \n",
       "1  60596c8518e2863a9485be69  2021-03-23T04:20:18.500Z   \n",
       "2  60596c8a18e2863a9485c270  2021-03-23T04:20:21.000Z   \n",
       "3  60596c8c18e2863a9485c47e  2021-03-23T04:20:26.000Z   \n",
       "4  60596c8e18e2863a9485c696  2021-03-23T04:20:28.000Z   \n",
       "\n",
       "                    enddate  timespan                        signalname  value  \n",
       "0  2021-03-23T04:20:18.500Z       2.0  ServoLoad_2_path1_OP20MAKINO_861    1.0  \n",
       "1  2021-03-23T04:20:21.000Z       2.5  ServoLoad_2_path1_OP20MAKINO_861   13.0  \n",
       "2  2021-03-23T04:20:26.000Z       5.0  ServoLoad_2_path1_OP20MAKINO_861    0.0  \n",
       "3  2021-03-23T04:20:28.000Z       2.0  ServoLoad_2_path1_OP20MAKINO_861   10.0  \n",
       "4  2021-03-23T04:20:30.000Z       2.0  ServoLoad_2_path1_OP20MAKINO_861   36.0  "
      ]
     },
     "execution_count": 14,
     "metadata": {},
     "output_type": "execute_result"
    }
   ],
   "source": [
    "signals.head()"
   ]
  },
  {
   "cell_type": "code",
   "execution_count": 15,
   "metadata": {},
   "outputs": [],
   "source": [
    "# print(signals['timespan'].max())\n",
    "# print(signals['timespan'].min())"
   ]
  },
  {
   "cell_type": "markdown",
   "metadata": {},
   "source": [
    "Function to plot data points"
   ]
  },
  {
   "cell_type": "code",
   "execution_count": 28,
   "metadata": {},
   "outputs": [],
   "source": [
    "def plot_data():\n",
    "    r = np.random.random()\n",
    "    b = np.random.random()\n",
    "    g = np.random.random()\n",
    "    color = (r, g, b)\n",
    "#     plt.figure(figsize=(8,6))\n",
    "    axes.plot(time, cycle_data['ServoLoad_2_path1_OP20MAKINO_861'], color = color)\n",
    "#     axes.legend()"
   ]
  },
  {
   "cell_type": "markdown",
   "metadata": {},
   "source": [
    "Converting to cyclic"
   ]
  },
  {
   "cell_type": "code",
   "execution_count": 30,
   "metadata": {},
   "outputs": [
    {
     "name": "stdout",
     "output_type": "stream",
     "text": [
      "5\n"
     ]
    },
    {
     "data": {
      "image/png": "[encoded data removed]",
      "text/plain": [
       "<Figure size 720x576 with 1 Axes>"
      ]
     },
     "metadata": {
      "needs_background": "light"
     },
     "output_type": "display_data"
    }
   ],
   "source": [
    "lst_sign = []\n",
    "lst_sign.append(signal_name)\n",
    "# print(lst_sign)\n",
    "fig = plt.figure(figsize=(10,8))\n",
    "axes = fig.add_axes([0, 0, 1, 1])\n",
    "no_of_plots = 0\n",
    "for i in range(len(main_prog)):\n",
    "#     print(main_prog.iloc[i,5])\n",
    "    if main_prog.iloc[i,5] == main_program and main_prog.iloc[i,3] > lower_bound and main_prog.iloc[i,3] < upper_bound:\n",
    "        start_time = main_prog.iloc[i,1]\n",
    "        end_time = main_prog.iloc[i,2]\n",
    "        index = signals[(signals['updatedate'] >= main_prog.iloc[i,1])].index.to_numpy()\n",
    "#         print(signals.iloc[index[0],])\n",
    "        \n",
    "#         print(main_prog.iloc[i,3])\n",
    "        time = np.arange(0,main_prog.iloc[i,3]+0.5,0.5)\n",
    "        time = list(time)\n",
    "        cycle_data = pd.DataFrame(columns = lst_sign,index = time)\n",
    "#         time_diff = 0\n",
    "        time_diff = find_time_sec(signals.iloc[index[0],1], main_prog.iloc[i,1])\n",
    "        end = main_prog.iloc[i,3]\n",
    "#         print(\"/\",end)\n",
    "#         print(\"*\",time_diff)\n",
    "        for j in range(len(signals)):\n",
    "            if time_diff <= end:\n",
    "                cycle_data.at[time_diff,signal_name] = signals.iloc[j,3]\n",
    "                time_diff += 0.5 \n",
    "#         print(cycle_data.head(10))\n",
    "        cycle_data = cycle_data.replace(to_replace = np.nan, value = 0)\n",
    "        plot_data()\n",
    "        no_of_plots += 1\n",
    "# plt.xlabel('time')\n",
    "# plt.ylabel('values')\n",
    "# plt.figure(figsize=(8,6))\n",
    "# plt.show()\n",
    "print(no_of_plots)"
   ]
  },
  {
   "cell_type": "code",
   "execution_count": null,
   "metadata": {},
   "outputs": [],
   "source": []
  },
  {
   "cell_type": "code",
   "execution_count": null,
   "metadata": {},
   "outputs": [],
   "source": []
  },
  {
   "cell_type": "code",
   "execution_count": null,
   "metadata": {},
   "outputs": [],
   "source": []
  }
 ],
 "metadata": {
  "kernelspec": {
   "display_name": "Python 3",
   "language": "python",
   "name": "python3"
  },
  "language_info": {
   "codemirror_mode": {
    "name": "ipython",
    "version": 3
   },
   "file_extension": ".py",
   "mimetype": "text/x-python",
   "name": "python",
   "nbconvert_exporter": "python",
   "pygments_lexer": "ipython3",
   "version": "3.7.4"
  }
 },
 "nbformat": 4,
 "nbformat_minor": 2
}
