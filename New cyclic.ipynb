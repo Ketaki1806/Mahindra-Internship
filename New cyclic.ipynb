{
 "cells": [
  {
   "cell_type": "code",
   "execution_count": 1,
   "metadata": {},
   "outputs": [],
   "source": [
    "import pymongo\n",
    "import pandas as pd\n",
    "import json\n",
    "import numpy as np\n",
    "import matplotlib.pyplot as plt\n",
    "from matplotlib.pyplot import figure"
   ]
  },
  {
   "cell_type": "code",
   "execution_count": 2,
   "metadata": {},
   "outputs": [],
   "source": [
    "client = pymongo.MongoClient(\"mongodb://localhost:27017\")"
   ]
  },
  {
   "cell_type": "code",
   "execution_count": 3,
   "metadata": {},
   "outputs": [],
   "source": [
    "file = \"dataset.csv\""
   ]
  },
  {
   "cell_type": "code",
   "execution_count": 4,
   "metadata": {},
   "outputs": [],
   "source": [
    "db = client[\"Dataset_mongo\"]"
   ]
  },
  {
   "cell_type": "code",
   "execution_count": 5,
   "metadata": {},
   "outputs": [],
   "source": [
    "dataset = db['Dataset']"
   ]
  },
  {
   "cell_type": "markdown",
   "metadata": {},
   "source": [
    "Function to find time differnence"
   ]
  },
  {
   "cell_type": "code",
   "execution_count": 6,
   "metadata": {},
   "outputs": [],
   "source": [
    "import datetime\n",
    "import dateutil.parser\n",
    "def find_time_sec(ndate,udate):\n",
    "    ndate = dateutil.parser.parse(ndate)\n",
    "    udate = dateutil.parser.parse(udate)\n",
    "    diff_time = ndate - udate\n",
    "    diff = str(diff_time)\n",
    "    time_lst = diff.split(':')\n",
    "    sec = time_lst[2].split('.')\n",
    "    x = diff.find('.')\n",
    "    if x != -1:\n",
    "        time_in_seconds = int(time_lst[0])*3600 + int(time_lst[1])*60 + int(sec[0]) + int(sec[1])/1000000\n",
    "    else:\n",
    "        time_in_seconds = int(time_lst[0])*3600 + int(time_lst[1])*60 + int(time_lst[2])\n",
    "    return time_in_seconds"
   ]
  },
  {
   "cell_type": "markdown",
   "metadata": {},
   "source": [
    "Inputs"
   ]
  },
  {
   "cell_type": "code",
   "execution_count": 7,
   "metadata": {},
   "outputs": [],
   "source": [
    "start_time = '2021-03-23T04:20:16.500Z'\n",
    "end_time = '2021-03-23T05:20:16.500Z'\n",
    "main_program_signal = 'MainProgram_path1_OP20MAKINO_861'\n",
    "signal_name = 'ServoLoad_2_path1_OP20MAKINO_861'\n",
    "main_program = '//CNC_MEM/USER/LIBRARY/O2100'\n",
    "machine_name = 'OP20MAKINO_861'"
   ]
  },
  {
   "cell_type": "code",
   "execution_count": 34,
   "metadata": {},
   "outputs": [],
   "source": [
    "query = dataset.find({\"$and\":[{\"updatedate\":{\"$gte\":start_time}}, \n",
    "                            {\"enddate\":{\"$lte\":end_time}},\n",
    "#                             {\"signalname\":{'$eq':main_program_signal}},\n",
    "                            {\"L1Name\":{'$eq':machine_name}}\n",
    "                           ]},\n",
    "                  {\"updatedate\":1,\"enddate\":1,\"timespan\":1,\"signalname\":1,\"value\":1})\n",
    "list_main_prog = list(query)\n",
    "temp = pd.DataFrame(list_main_prog)"
   ]
  },
  {
   "cell_type": "code",
   "execution_count": 40,
   "metadata": {},
   "outputs": [
    {
     "data": {
      "text/plain": [
       "ServoCurrentPer_2_path1_OP20MAKINO_861    110\n",
       "ServoLoad_1_path1_OP20MAKINO_861          106\n",
       "ServoLoad_2_path1_OP20MAKINO_861          105\n",
       "ServoCurrent_2_path1_OP20MAKINO_861       103\n",
       "ServoCurrentPer_1_path1_OP20MAKINO_861    101\n",
       "ServoCurrentPer_0_path1_OP20MAKINO_861     96\n",
       "ServoSpeed_2_path1_OP20MAKINO_861          93\n",
       "ServoLoad_0_path1_OP20MAKINO_861           91\n",
       "ServoCurrent_0_path1_OP20MAKINO_861        56\n",
       "ServoLoad_0_path2_OP20MAKINO_861           56\n",
       "ServoCurrentPer_0_path2_OP20MAKINO_861     55\n",
       "ServoLoad_3_path2_OP20MAKINO_861           45\n",
       "ServoCurrentPer_3_path2_OP20MAKINO_861     44\n",
       "ServoSpeed_0_path1_OP20MAKINO_861          39\n",
       "ServoSpeed_1_path1_OP20MAKINO_861          37\n",
       "ServoCurrentPer_3_path1_OP20MAKINO_861     24\n",
       "ServoLoad_3_path1_OP20MAKINO_861           22\n",
       "ServoSpeed_0_path2_OP20MAKINO_861          22\n",
       "ServoSpeed_3_path2_OP20MAKINO_861           9\n",
       "ServoSpeed_3_path1_OP20MAKINO_861           7\n",
       "ServoCurrent_0_path2_OP20MAKINO_861         5\n",
       "ServoCurrent_3_path2_OP20MAKINO_861         5\n",
       "ServoTemp_1_path1_OP20MAKINO_861            1\n",
       "Name: signalname, dtype: int64"
      ]
     },
     "execution_count": 40,
     "metadata": {},
     "output_type": "execute_result"
    }
   ],
   "source": [
    "temp1 = temp.loc[temp['signalname'].str.contains('Servo', case = False)]\n",
    "temp1['signalname'].value_counts()"
   ]
  },
  {
   "cell_type": "markdown",
   "metadata": {},
   "source": [
    "Finding values of main program in given time"
   ]
  },
  {
   "cell_type": "code",
   "execution_count": 8,
   "metadata": {},
   "outputs": [],
   "source": [
    "query = dataset.find({\"$and\":[{\"updatedate\":{\"$gte\":start_time}}, \n",
    "                            {\"enddate\":{\"$lte\":end_time}},\n",
    "                            {\"signalname\":{'$eq':main_program_signal}},\n",
    "                            {\"L1Name\":{'$eq':machine_name}}\n",
    "                           ]},\n",
    "                  {\"updatedate\":1,\"enddate\":1,\"timespan\":1,\"signalname\":1,\"value\":1})\n",
    "list_main_prog = list(query)\n",
    "main_prog = pd.DataFrame(list_main_prog)"
   ]
  },
  {
   "cell_type": "code",
   "execution_count": 32,
   "metadata": {},
   "outputs": [
    {
     "data": {
      "text/plain": [
       "ServoCurrentPer_2_path1_OP20MAKINO_861    110\n",
       "AbsPos_2_path1_OP20MAKINO_861             109\n",
       "ServoLoad_1_path1_OP20MAKINO_861          106\n",
       "RelPos_2_path1_OP20MAKINO_861             105\n",
       "McnPos_2_path1_OP20MAKINO_861             105\n",
       "                                         ... \n",
       "OPERATE                                     1\n",
       "MainProgram_path1_OP20MAKINO_861            1\n",
       "SigOP_path1_OP20MAKINO_861                  1\n",
       "RelPos_3_path2_OP20MAKINO_861               1\n",
       "SigSTL_path1_OP20MAKINO_861                 1\n",
       "Name: signalname, Length: 65, dtype: int64"
      ]
     },
     "execution_count": 32,
     "metadata": {},
     "output_type": "execute_result"
    }
   ],
   "source": [
    "main_prog.head(20)"
   ]
  },
  {
   "cell_type": "code",
   "execution_count": 10,
   "metadata": {},
   "outputs": [
    {
     "data": {
      "text/plain": [
       "//CNC_MEM/USER/LIBRARY/O2100    8\n",
       "//CNC_MEM/USER/LIBRARY/O1000    7\n",
       "Name: value, dtype: int64"
      ]
     },
     "execution_count": 10,
     "metadata": {},
     "output_type": "execute_result"
    }
   ],
   "source": [
    "main_prog['value'].value_counts()"
   ]
  },
  {
   "cell_type": "markdown",
   "metadata": {},
   "source": [
    "Find range of signal value (+-30% dynamically)"
   ]
  },
  {
   "cell_type": "code",
   "execution_count": 11,
   "metadata": {},
   "outputs": [
    {
     "name": "stdout",
     "output_type": "stream",
     "text": [
      "303.0\n"
     ]
    }
   ],
   "source": [
    "group_signal = main_prog.groupby('value')\n",
    "group = group_signal.get_group(main_program)\n",
    "median_value = group['timespan'].median()\n",
    "print(median_value)"
   ]
  },
  {
   "cell_type": "code",
   "execution_count": 12,
   "metadata": {},
   "outputs": [
    {
     "name": "stdout",
     "output_type": "stream",
     "text": [
      "393.9 212.1\n"
     ]
    }
   ],
   "source": [
    "upper_bound = median_value + (30 * median_value)/100\n",
    "lower_bound = median_value - (30 * median_value)/100\n",
    "\n",
    "print(upper_bound, lower_bound)"
   ]
  },
  {
   "cell_type": "markdown",
   "metadata": {},
   "source": [
    "Finding values of signal in given time"
   ]
  },
  {
   "cell_type": "code",
   "execution_count": 13,
   "metadata": {},
   "outputs": [],
   "source": [
    "query = dataset.find({\"$and\":[{\"updatedate\":{\"$gte\":start_time}}, #O2100\n",
    "                            {\"enddate\":{\"$lte\":end_time}},\n",
    "                            {\"signalname\":{'$eq':signal_name}},\n",
    "                            {\"L1Name\":{'$eq':machine_name}}\n",
    "                           ]},\n",
    "                  {\"updatedate\":1,\"enddate\":1,\"timespan\":1,\"signalname\":1,\"value\":1})\n",
    "list_signal = list(query)\n",
    "signals = pd.DataFrame(list_signal)"
   ]
  },
  {
   "cell_type": "code",
   "execution_count": 14,
   "metadata": {},
   "outputs": [
    {
     "data": {
      "text/html": [
       "<div>\n",
       "<style scoped>\n",
       "    .dataframe tbody tr th:only-of-type {\n",
       "        vertical-align: middle;\n",
       "    }\n",
       "\n",
       "    .dataframe tbody tr th {\n",
       "        vertical-align: top;\n",
       "    }\n",
       "\n",
       "    .dataframe thead th {\n",
       "        text-align: right;\n",
       "    }\n",
       "</style>\n",
       "<table border=\"1\" class=\"dataframe\">\n",
       "  <thead>\n",
       "    <tr style=\"text-align: right;\">\n",
       "      <th></th>\n",
       "      <th>_id</th>\n",
       "      <th>updatedate</th>\n",
       "      <th>enddate</th>\n",
       "      <th>timespan</th>\n",
       "      <th>signalname</th>\n",
       "      <th>value</th>\n",
       "    </tr>\n",
       "  </thead>\n",
       "  <tbody>\n",
       "    <tr>\n",
       "      <td>0</td>\n",
       "      <td>60596c8318e2863a9485bcce</td>\n",
       "      <td>2021-03-23T04:20:16.500Z</td>\n",
       "      <td>2021-03-23T04:20:18.500Z</td>\n",
       "      <td>2.0</td>\n",
       "      <td>ServoLoad_2_path1_OP20MAKINO_861</td>\n",
       "      <td>1.0</td>\n",
       "    </tr>\n",
       "    <tr>\n",
       "      <td>1</td>\n",
       "      <td>60596c8518e2863a9485be69</td>\n",
       "      <td>2021-03-23T04:20:18.500Z</td>\n",
       "      <td>2021-03-23T04:20:21.000Z</td>\n",
       "      <td>2.5</td>\n",
       "      <td>ServoLoad_2_path1_OP20MAKINO_861</td>\n",
       "      <td>13.0</td>\n",
       "    </tr>\n",
       "    <tr>\n",
       "      <td>2</td>\n",
       "      <td>60596c8a18e2863a9485c270</td>\n",
       "      <td>2021-03-23T04:20:21.000Z</td>\n",
       "      <td>2021-03-23T04:20:26.000Z</td>\n",
       "      <td>5.0</td>\n",
       "      <td>ServoLoad_2_path1_OP20MAKINO_861</td>\n",
       "      <td>0.0</td>\n",
       "    </tr>\n",
       "    <tr>\n",
       "      <td>3</td>\n",
       "      <td>60596c8c18e2863a9485c47e</td>\n",
       "      <td>2021-03-23T04:20:26.000Z</td>\n",
       "      <td>2021-03-23T04:20:28.000Z</td>\n",
       "      <td>2.0</td>\n",
       "      <td>ServoLoad_2_path1_OP20MAKINO_861</td>\n",
       "      <td>10.0</td>\n",
       "    </tr>\n",
       "    <tr>\n",
       "      <td>4</td>\n",
       "      <td>60596c8e18e2863a9485c696</td>\n",
       "      <td>2021-03-23T04:20:28.000Z</td>\n",
       "      <td>2021-03-23T04:20:30.000Z</td>\n",
       "      <td>2.0</td>\n",
       "      <td>ServoLoad_2_path1_OP20MAKINO_861</td>\n",
       "      <td>36.0</td>\n",
       "    </tr>\n",
       "  </tbody>\n",
       "</table>\n",
       "</div>"
      ],
      "text/plain": [
       "                        _id                updatedate  \\\n",
       "0  60596c8318e2863a9485bcce  2021-03-23T04:20:16.500Z   \n",
       "1  60596c8518e2863a9485be69  2021-03-23T04:20:18.500Z   \n",
       "2  60596c8a18e2863a9485c270  2021-03-23T04:20:21.000Z   \n",
       "3  60596c8c18e2863a9485c47e  2021-03-23T04:20:26.000Z   \n",
       "4  60596c8e18e2863a9485c696  2021-03-23T04:20:28.000Z   \n",
       "\n",
       "                    enddate  timespan                        signalname  value  \n",
       "0  2021-03-23T04:20:18.500Z       2.0  ServoLoad_2_path1_OP20MAKINO_861    1.0  \n",
       "1  2021-03-23T04:20:21.000Z       2.5  ServoLoad_2_path1_OP20MAKINO_861   13.0  \n",
       "2  2021-03-23T04:20:26.000Z       5.0  ServoLoad_2_path1_OP20MAKINO_861    0.0  \n",
       "3  2021-03-23T04:20:28.000Z       2.0  ServoLoad_2_path1_OP20MAKINO_861   10.0  \n",
       "4  2021-03-23T04:20:30.000Z       2.0  ServoLoad_2_path1_OP20MAKINO_861   36.0  "
      ]
     },
     "execution_count": 14,
     "metadata": {},
     "output_type": "execute_result"
    }
   ],
   "source": [
    "signals.head()"
   ]
  },
  {
   "cell_type": "code",
   "execution_count": 15,
   "metadata": {},
   "outputs": [],
   "source": [
    "# print(signals['timespan'].max())\n",
    "# print(signals['timespan'].min())"
   ]
  },
  {
   "cell_type": "markdown",
   "metadata": {},
   "source": [
    "Function to plot data points"
   ]
  },
  {
   "cell_type": "code",
   "execution_count": 16,
   "metadata": {},
   "outputs": [],
   "source": [
    "def plot_data():\n",
    "    r = np.random.random()\n",
    "    b = np.random.random()\n",
    "    g = np.random.random()\n",
    "    color = (r, g, b)\n",
    "#     plt.figure(figsize=(8,6))\n",
    "    axes.plot(time, cycle_data['ServoLoad_2_path1_OP20MAKINO_861'], color = color)\n",
    "#     axes.legend()"
   ]
  },
  {
   "cell_type": "markdown",
   "metadata": {},
   "source": [
    "Converting to cyclic"
   ]
  },
  {
   "cell_type": "code",
   "execution_count": 17,
   "metadata": {},
   "outputs": [
    {
     "name": "stdout",
     "output_type": "stream",
     "text": [
      "5\n"
     ]
    },
    {
     "data": {
      "image/png": "[encoded data removed]",
      "text/plain": [
       "<Figure size 576x432 with 1 Axes>"
      ]
     },
     "metadata": {
      "needs_background": "light"
     },
     "output_type": "display_data"
    }
   ],
   "source": [
    "lst_sign = []\n",
    "lst_sign.append(signal_name)\n",
    "# print(lst_sign)\n",
    "fig = plt.figure(figsize=(8,6))\n",
    "axes = fig.add_axes([0, 0, 1, 1])\n",
    "no_of_plots = 0\n",
    "cycle_one = []\n",
    "t = []\n",
    "for i in range(len(main_prog)):\n",
    "#     print(main_prog.iloc[i,5])\n",
    "    if main_prog.iloc[i,5] == main_program and main_prog.iloc[i,3] > lower_bound and main_prog.iloc[i,3] < upper_bound: \n",
    "        start_time = main_prog.iloc[i,1]\n",
    "        end_time = main_prog.iloc[i,2]\n",
    "        index = signals[(signals['updatedate'] >= main_prog.iloc[i,1])].index.to_numpy()\n",
    "#         print(signals.iloc[index[0],])\n",
    "\n",
    "#         print(main_prog.iloc[i,3])\n",
    "        time = np.arange(0,main_prog.iloc[i,3]+0.5,0.5)\n",
    "        \n",
    "        time = list(time)\n",
    "        cycle_data = pd.DataFrame(columns = lst_sign,index = time)\n",
    "#         time_diff = 0\n",
    "        time_diff = find_time_sec(signals.iloc[index[0],1], main_prog.iloc[i,1])\n",
    "        end = main_prog.iloc[i,3]\n",
    "    #         print(\"/\",end)\n",
    "    #         print(\"*\",time_diff)    \n",
    "        \n",
    "        if no_of_plots == 0:\n",
    "            k = 0.0\n",
    "            while k < time_diff:\n",
    "                cycle_one.append(0)\n",
    "                k += 0.5\n",
    "        for j in range(len(signals)):\n",
    "            if i!= 0:\n",
    "                diff_in_cycles = find_time_sec(signals.iloc[i,1], signals.iloc[i-1,2]) \n",
    "            if diff_in_cycles != 0: #check if ther is gap between signals\n",
    "                time_diff += diff_in_cycles \n",
    "            if time_diff <= end:\n",
    "                cycle_data.at[time_diff,signal_name] = signals.iloc[j,3]\n",
    "                time_diff += 0.5 \n",
    "                if no_of_plots == 0:\n",
    "                    cycle_one.append(signals.iloc[j,3])\n",
    "                    t = np.arange(0,main_prog.iloc[i,3]+0.5,0.5)\n",
    "#         print(cycle_data.head(10))\n",
    "        cycle_data[signal_name] = cycle_data[signal_name].interpolate(method='linear') # updating missing values \n",
    "#         print(cycle_data.head(10))\n",
    "        plot_data()\n",
    "        no_of_plots += 1\n",
    "print(no_of_plots)\n"
   ]
  },
  {
   "cell_type": "code",
   "execution_count": 19,
   "metadata": {},
   "outputs": [
    {
     "name": "stdout",
     "output_type": "stream",
     "text": [
      "613\n",
      "613\n"
     ]
    }
   ],
   "source": [
    "print(len(cycle_one))\n",
    "print(len(t))"
   ]
  },
  {
   "cell_type": "markdown",
   "metadata": {},
   "source": [
    "Compute FFT on above data -> denoising"
   ]
  },
  {
   "cell_type": "code",
   "execution_count": 25,
   "metadata": {},
   "outputs": [],
   "source": [
    "dt = 0.5\n",
    "n = len(t)\n",
    "fhat = np.fft.fft(cycle_one,n) # fhat -> fourier coeff complex values(magn & phase)\n",
    "PSD = fhat * np.arange(n) #power spectral density..finding magn of vectors\n",
    "freq = (1/(dt * n)) * np.arange(n) \n",
    "L = np.arange(1, np.floor(n/2), dtype = 'int')\n"
   ]
  },
  {
   "cell_type": "code",
   "execution_count": 27,
   "metadata": {},
   "outputs": [
    {
     "data": {
      "image/png": "[encoded data removed]",
      "text/plain": [
       "<Figure size 432x288 with 3 Axes>"
      ]
     },
     "metadata": {
      "needs_background": "light"
     },
     "output_type": "display_data"
    },
    {
     "data": {
      "text/plain": [
       "<Figure size 576x432 with 0 Axes>"
      ]
     },
     "metadata": {},
     "output_type": "display_data"
    }
   ],
   "source": [
    "indices = PSD > 50000\n",
    "PSDclean = PSD * indices\n",
    "fhat = indices * fhat\n",
    "ffilt = np.fft.ifft(fhat)\n",
    "\n",
    "fig,axs = plt.subplots(3,1)\n",
    "fig = plt.figure(figsize=(8,6))\n",
    "plt.sca(axs[0])\n",
    "plt.plot(t, cycle_one, color = 'c', LineWidth = 1.5, label = 'Noisy')\n",
    "plt.xlim(t[0], t[-1])\n",
    "plt.legend()\n",
    "\n",
    "plt.sca(axs[1])\n",
    "plt.plot(freq[L], PSD[L], color = 'c', LineWidth = 1, label = 'Noisy')\n",
    "plt.xlim(freq[L[0]], freq[L[-1]])\n",
    "plt.legend()\n",
    "\n",
    "plt.sca(axs[2])\n",
    "plt.plot(freq[L], PSDclean[L], color = 'c', LineWidth = 1, label = 'Filtered')\n",
    "plt.xlim(freq[L[0]], freq[L[-1]])\n",
    "plt.legend()\n",
    "plt.show()"
   ]
  },
  {
   "cell_type": "code",
   "execution_count": null,
   "metadata": {},
   "outputs": [],
   "source": []
  },
  {
   "cell_type": "code",
   "execution_count": null,
   "metadata": {},
   "outputs": [],
   "source": []
  }
 ],
 "metadata": {
  "kernelspec": {
   "display_name": "Python 3",
   "language": "python",
   "name": "python3"
  },
  "language_info": {
   "codemirror_mode": {
    "name": "ipython",
    "version": 3
   },
   "file_extension": ".py",
   "mimetype": "text/x-python",
   "name": "python",
   "nbconvert_exporter": "python",
   "pygments_lexer": "ipython3",
   "version": "3.7.4"
  }
 },
 "nbformat": 4,
 "nbformat_minor": 2
}
