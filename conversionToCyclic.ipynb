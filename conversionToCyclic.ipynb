{
 "cells": [
  {
   "cell_type": "code",
   "execution_count": null,
   "metadata": {},
   "outputs": [],
   "source": [
    "import pymongo\n",
    "import pandas as pd\n",
    "import json\n",
    "import numpy as np\n",
    "import matplotlib.pyplot as plt"
   ]
  },
  {
   "cell_type": "code",
   "execution_count": null,
   "metadata": {},
   "outputs": [],
   "source": [
    "client = pymongo.MongoClient(\"mongodb://localhost:27017\")"
   ]
  },
  {
   "cell_type": "code",
   "execution_count": null,
   "metadata": {},
   "outputs": [],
   "source": [
    "file = \"dataset.csv\""
   ]
  },
  {
   "cell_type": "code",
   "execution_count": null,
   "metadata": {},
   "outputs": [],
   "source": [
    "db = client[\"Dataset_mongo\"]"
   ]
  },
  {
   "cell_type": "code",
   "execution_count": null,
   "metadata": {},
   "outputs": [],
   "source": [
    "mycol = db['Dataset']"
   ]
  },
  {
   "cell_type": "code",
   "execution_count": null,
   "metadata": {},
   "outputs": [],
   "source": [
    "# query = mycol.find({\"$and\":[{\"updatedate\":{\"$gte\":'2021-03-23T04:20:14.000Z'}}, #O2100\n",
    "#                             {\"enddate\":{\"$lte\":'2021-03-23T04:25:19.500Z'}} \n",
    "#                            ]},\n",
    "#                   {\"updatedate\":1,\"enddate\":1,\"timespan\":1,\"signalname\":1,\"value\":1})\n",
    "# list_cur = list(query)\n",
    "# signals = pd.DataFrame(list_cur)"
   ]
  },
  {
   "cell_type": "code",
   "execution_count": null,
   "metadata": {},
   "outputs": [],
   "source": [
    "# signals['signalname'].value_counts()"
   ]
  },
  {
   "cell_type": "code",
   "execution_count": null,
   "metadata": {},
   "outputs": [],
   "source": [
    "# len(signals)"
   ]
  },
  {
   "cell_type": "code",
   "execution_count": null,
   "metadata": {},
   "outputs": [],
   "source": [
    "# signals_list = signals['signalname'].unique()"
   ]
  },
  {
   "cell_type": "code",
   "execution_count": null,
   "metadata": {},
   "outputs": [],
   "source": [
    "# len(signals_list)"
   ]
  },
  {
   "cell_type": "code",
   "execution_count": null,
   "metadata": {},
   "outputs": [],
   "source": [
    "# signals = signals.drop('_id',axis = 1)"
   ]
  },
  {
   "cell_type": "code",
   "execution_count": null,
   "metadata": {},
   "outputs": [],
   "source": [
    "# signals.head(10)"
   ]
  },
  {
   "cell_type": "code",
   "execution_count": null,
   "metadata": {},
   "outputs": [],
   "source": [
    "time = np.arange(0,306,0.5)"
   ]
  },
  {
   "cell_type": "code",
   "execution_count": null,
   "metadata": {},
   "outputs": [],
   "source": [
    "time = list(time)\n",
    "# time"
   ]
  },
  {
   "cell_type": "code",
   "execution_count": null,
   "metadata": {},
   "outputs": [],
   "source": []
  },
  {
   "cell_type": "code",
   "execution_count": null,
   "metadata": {},
   "outputs": [],
   "source": [
    "import datetime\n",
    "import dateutil.parser\n",
    "def find_time_sec(ndate,udate):\n",
    "    ndate = dateutil.parser.parse(ndate)\n",
    "    udate = dateutil.parser.parse(udate)\n",
    "    diff_time = ndate - udate\n",
    "    diff = str(diff_time)\n",
    "    time_lst = diff.split(':')\n",
    "    sec = time_lst[2].split('.')\n",
    "    x = diff.find('.')\n",
    "    if x != -1:\n",
    "        time_in_seconds = int(time_lst[0])*3600 + int(time_lst[1])*60 + int(sec[0]) + int(sec[1])/1000000\n",
    "    else:\n",
    "        time_in_seconds = int(time_lst[0])*3600 + int(time_lst[1])*60 + int(time_lst[2])\n",
    "    return time_in_seconds\n"
   ]
  },
  {
   "cell_type": "code",
   "execution_count": null,
   "metadata": {},
   "outputs": [],
   "source": [
    "# start_time = find_time_sec('2021-03-23T04:20:16.500Z','2021-03-23T04:20:14.000Z')\n",
    "# start_time"
   ]
  },
  {
   "cell_type": "code",
   "execution_count": null,
   "metadata": {},
   "outputs": [],
   "source": [
    "# added_signals = []\n",
    "# index = 0.0\n",
    "# for i in range(len(signals)):\n",
    "# #     print(signals.iloc[i,3],index,i,signals.iloc[i,2])\n",
    "#     if signals.iloc[i,3] not in added_signals:\n",
    "#         added_signals.append(signals.iloc[i,3])\n",
    "#         start_time = find_time_sec(signals.iloc[i,0],'2021-03-23T04:20:14.000Z')\n",
    "#         index = float(start_time)\n",
    "#     time_span = signals.iloc[i,2]\n",
    "#     print(index)\n",
    "#     while time_span > 0:\n",
    "#         cycle_data.at[signals.iloc[i,3],index] = signals.iloc[i,4]\n",
    "#         time_span = time_span - 0.5\n",
    "#         index += 0.5\n",
    "# #     print(index)"
   ]
  },
  {
   "cell_type": "code",
   "execution_count": null,
   "metadata": {},
   "outputs": [],
   "source": [
    "# list(cycle_data.iloc[0])"
   ]
  },
  {
   "cell_type": "code",
   "execution_count": null,
   "metadata": {},
   "outputs": [],
   "source": [
    "query_temp = mycol.find({\"$and\":[{\"updatedate\":{\"$gte\":'2021-03-23T04:20:16.500Z'}}, #O2100\n",
    "                            {\"enddate\":{\"$lte\":'2021-03-23T05:20:16.500Z'}},\n",
    "                            {\"signalname\":{'$eq':'MainProgram_path1_OP20MAKINO_861'}}\n",
    "#                             {\"L1Name\":{'$eq':machine}}\n",
    "                           ]},\n",
    "                  {\"updatedate\":1,\"enddate\":1,\"timespan\":1,\"signalname\":1,\"value\":1})\n",
    "list_temp = list(query_temp)\n",
    "temp = pd.DataFrame(list_temp)"
   ]
  },
  {
   "cell_type": "code",
   "execution_count": null,
   "metadata": {},
   "outputs": [],
   "source": [
    "temp.head()"
   ]
  },
  {
   "cell_type": "code",
   "execution_count": null,
   "metadata": {},
   "outputs": [],
   "source": [
    "temp.shape"
   ]
  },
  {
   "cell_type": "code",
   "execution_count": null,
   "metadata": {},
   "outputs": [],
   "source": [
    "temp['value'].unique()"
   ]
  },
  {
   "cell_type": "code",
   "execution_count": null,
   "metadata": {},
   "outputs": [],
   "source": [
    "name_signal = 'ServoLoad_2_path1_OP20MAKINO_861'\n",
    "main_prog = '//CNC_MEM/USER/LIBRARY/O2100'\n",
    "machine = 'OP20MAKINO_861'\n",
    "time_start = '2021-03-23T04:20:16.500Z'\n",
    "time_end = '2021-03-23T05:20:16.500Z'\n",
    "# find_time_sec(time_start,time_end)\n",
    "query = mycol.find({\"$and\":[{\"updatedate\":{\"$gte\":time_start}}, #O2100\n",
    "                            {\"enddate\":{\"$lte\":time_end}},\n",
    "                            {\"signalname\":{'$eq':name_signal}}\n",
    "#                             {\"L1Name\":{'$eq':machine}}\n",
    "                           ]},\n",
    "                  {\"updatedate\":1,\"enddate\":1,\"timespan\":1,\"signalname\":1,\"value\":1})\n",
    "list_cur = list(query)\n",
    "new_signals = pd.DataFrame(list_cur)"
   ]
  },
  {
   "cell_type": "code",
   "execution_count": null,
   "metadata": {},
   "outputs": [],
   "source": [
    "new_signals.shape[0]"
   ]
  },
  {
   "cell_type": "code",
   "execution_count": null,
   "metadata": {},
   "outputs": [],
   "source": [
    "# new_signals.head(40)"
   ]
  },
  {
   "cell_type": "code",
   "execution_count": null,
   "metadata": {},
   "outputs": [],
   "source": [
    "new_signals['timespan'].max()"
   ]
  },
  {
   "cell_type": "code",
   "execution_count": null,
   "metadata": {},
   "outputs": [],
   "source": [
    "new_signals = new_signals.drop('_id',axis = 1)"
   ]
  },
  {
   "cell_type": "code",
   "execution_count": null,
   "metadata": {},
   "outputs": [],
   "source": []
  },
  {
   "cell_type": "code",
   "execution_count": null,
   "metadata": {},
   "outputs": [],
   "source": [
    "def plot_data():\n",
    "    r = np.random.random()\n",
    "    b = np.random.random()\n",
    "    g = np.random.random()\n",
    "    color = (r, g, b)\n",
    "#     plt.figure(figsize=(5,5))\n",
    "    plt.plot(time, cycle_data['ServoLoad_2_path1_OP20MAKINO_861'], color = color)"
   ]
  },
  {
   "cell_type": "code",
   "execution_count": null,
   "metadata": {},
   "outputs": [],
   "source": [
    "lst_sign = []\n",
    "lst_sign.append(name_signal)\n",
    "lst_sign"
   ]
  },
  {
   "cell_type": "code",
   "execution_count": null,
   "metadata": {},
   "outputs": [],
   "source": [
    "cycle_data = pd.DataFrame(columns = lst_sign,index = time)\n",
    "cycle_data"
   ]
  },
  {
   "cell_type": "code",
   "execution_count": null,
   "metadata": {},
   "outputs": [],
   "source": [
    "# 305.5 % 305.5"
   ]
  },
  {
   "cell_type": "code",
   "execution_count": null,
   "metadata": {},
   "outputs": [],
   "source": [
    "index = 0.0\n",
    "count = 0.0\n",
    "rem_time = 0.0\n",
    "no_of_plots = 0\n",
    "start = '2021-03-23T04:20:16.500Z'\n",
    "start_time = find_time_sec(new_signals.iloc[0,0],start)\n",
    "index = float(start_time)\n",
    "for i in range(len(new_signals)):\n",
    "#     print(index)\n",
    "        \n",
    "    if (count%306 == 0.0 or index > 305.5) and index > 0.0:\n",
    "#         print('index',index)\n",
    "#         print('Plotting........')\n",
    "        plot_data()\n",
    "        no_of_plots += 1\n",
    "        if no_of_plots == 3:\n",
    "            break;\n",
    "#         plt.show()\n",
    "        index = float(find_time_sec(new_signals.iloc[i,0],new_signals.iloc[i-1,1]))\n",
    "        count = 0\n",
    "        count += index\n",
    "        cycle_data = pd.DataFrame(columns = lst_sign,index = time)\n",
    "        index = index + rem_time\n",
    "        if rem_time != 0:\n",
    "            j = 0\n",
    "            while rem_time > 0:\n",
    "                count = count + 0.5\n",
    "                cycle_data.at[j,new_signals.iloc[0,3]] = value\n",
    "                j = j+0.5\n",
    "                rem_time = rem_time - 0.5\n",
    "#         print(cycle_data.head(5))\n",
    "#         print(cycle_data.head(5))\n",
    "#         added_signals.append(signals.iloc[i,3])\n",
    "#         index = float(find_time_sec(start,new_signals.iloc[i,0]))\n",
    "    \n",
    "    time_span = new_signals.iloc[i,2]\n",
    "#     print(time_span)\n",
    "    while time_span > 0 and index <= 305.5:\n",
    "        count = count + 0.5\n",
    "        cycle_data.at[index,new_signals.iloc[i,3]] = new_signals.iloc[i,4]\n",
    "        time_span = time_span - 0.5\n",
    "        index += 0.5\n",
    "        if index == 305.5:\n",
    "            rem_time = time_span\n",
    "            value = new_signals.iloc[i,4]\n",
    "#             print(rem_time, value)\n",
    "plt.xlabel('time')\n",
    "plt.ylabel('values')\n",
    "plt.figure(figsize = (8,6))\n",
    "plt.show()\n",
    "print('No of plots',no_of_plots)"
   ]
  },
  {
   "cell_type": "code",
   "execution_count": null,
   "metadata": {},
   "outputs": [],
   "source": [
    "cycle_data.head(40)"
   ]
  },
  {
   "cell_type": "code",
   "execution_count": null,
   "metadata": {},
   "outputs": [],
   "source": []
  }
 ],
 "metadata": {
  "interpreter": {
   "hash": "b3ba2566441a7c06988d0923437866b63cedc61552a5af99d1f4fb67d367b25f"
  },
  "kernelspec": {
   "display_name": "Python 3",
   "language": "python",
   "name": "python3"
  },
  "language_info": {
   "codemirror_mode": {
    "name": "ipython",
    "version": 3
   },
   "file_extension": ".py",
   "mimetype": "text/x-python",
   "name": "python",
   "nbconvert_exporter": "python",
   "pygments_lexer": "ipython3",
   "version": "3.7.4"
  }
 },
 "nbformat": 4,
 "nbformat_minor": 2
}
