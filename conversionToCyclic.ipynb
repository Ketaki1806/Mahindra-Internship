{
 "cells": [
  {
   "cell_type": "code",
   "execution_count": 1,
   "metadata": {},
   "outputs": [],
   "source": [
    "import pymongo\n",
    "import pandas as pd\n",
    "import json\n",
    "import numpy as np\n",
    "import matplotlib.pyplot as plt"
   ]
  },
  {
   "cell_type": "code",
   "execution_count": 2,
   "metadata": {},
   "outputs": [],
   "source": [
    "client = pymongo.MongoClient(\"mongodb://localhost:27017\")"
   ]
  },
  {
   "cell_type": "code",
   "execution_count": 3,
   "metadata": {},
   "outputs": [],
   "source": [
    "file = \"dataset.csv\""
   ]
  },
  {
   "cell_type": "code",
   "execution_count": 4,
   "metadata": {},
   "outputs": [],
   "source": [
    "db = client[\"Dataset_mongo\"]"
   ]
  },
  {
   "cell_type": "code",
   "execution_count": 5,
   "metadata": {},
   "outputs": [],
   "source": [
    "mycol = db['Dataset']"
   ]
  },
  {
   "cell_type": "code",
   "execution_count": 6,
   "metadata": {},
   "outputs": [],
   "source": [
    "# query = mycol.find({\"$and\":[{\"updatedate\":{\"$gte\":'2021-03-23T04:20:14.000Z'}}, #O2100\n",
    "#                             {\"enddate\":{\"$lte\":'2021-03-23T04:25:19.500Z'}} \n",
    "#                            ]},\n",
    "#                   {\"updatedate\":1,\"enddate\":1,\"timespan\":1,\"signalname\":1,\"value\":1})\n",
    "# list_cur = list(query)\n",
    "# signals = pd.DataFrame(list_cur)"
   ]
  },
  {
   "cell_type": "code",
   "execution_count": 7,
   "metadata": {},
   "outputs": [],
   "source": [
    "# signals['signalname'].value_counts()"
   ]
  },
  {
   "cell_type": "code",
   "execution_count": 8,
   "metadata": {},
   "outputs": [],
   "source": [
    "# len(signals)"
   ]
  },
  {
   "cell_type": "code",
   "execution_count": 9,
   "metadata": {},
   "outputs": [],
   "source": [
    "# signals_list = signals['signalname'].unique()"
   ]
  },
  {
   "cell_type": "code",
   "execution_count": 10,
   "metadata": {},
   "outputs": [],
   "source": [
    "# len(signals_list)"
   ]
  },
  {
   "cell_type": "code",
   "execution_count": 11,
   "metadata": {},
   "outputs": [],
   "source": [
    "# signals = signals.drop('_id',axis = 1)"
   ]
  },
  {
   "cell_type": "code",
   "execution_count": 12,
   "metadata": {},
   "outputs": [],
   "source": [
    "# signals.head(10)"
   ]
  },
  {
   "cell_type": "code",
   "execution_count": 13,
   "metadata": {},
   "outputs": [],
   "source": [
    "time = np.arange(0,306,0.5)"
   ]
  },
  {
   "cell_type": "code",
   "execution_count": 14,
   "metadata": {},
   "outputs": [],
   "source": [
    "time = list(time)\n",
    "# time"
   ]
  },
  {
   "cell_type": "code",
   "execution_count": null,
   "metadata": {},
   "outputs": [],
   "source": []
  },
  {
   "cell_type": "code",
   "execution_count": 15,
   "metadata": {},
   "outputs": [],
   "source": [
    "import datetime\n",
    "import dateutil.parser\n",
    "def find_time_sec(ndate,udate):\n",
    "    ndate = dateutil.parser.parse(ndate)\n",
    "    udate = dateutil.parser.parse(udate)\n",
    "    diff_time = ndate - udate\n",
    "    diff = str(diff_time)\n",
    "    time_lst = diff.split(':')\n",
    "    sec = time_lst[2].split('.')\n",
    "    x = diff.find('.')\n",
    "    if x != -1:\n",
    "        time_in_seconds = int(time_lst[0])*3600 + int(time_lst[1])*60 + int(sec[0]) + int(sec[1])/1000000\n",
    "    else:\n",
    "        time_in_seconds = int(time_lst[0])*3600 + int(time_lst[1])*60 + int(time_lst[2])\n",
    "    return time_in_seconds\n"
   ]
  },
  {
   "cell_type": "code",
   "execution_count": 16,
   "metadata": {},
   "outputs": [],
   "source": [
    "# start_time = find_time_sec('2021-03-23T04:20:16.500Z','2021-03-23T04:20:14.000Z')\n",
    "# start_time"
   ]
  },
  {
   "cell_type": "code",
   "execution_count": 17,
   "metadata": {},
   "outputs": [],
   "source": [
    "# added_signals = []\n",
    "# index = 0.0\n",
    "# for i in range(len(signals)):\n",
    "# #     print(signals.iloc[i,3],index,i,signals.iloc[i,2])\n",
    "#     if signals.iloc[i,3] not in added_signals:\n",
    "#         added_signals.append(signals.iloc[i,3])\n",
    "#         start_time = find_time_sec(signals.iloc[i,0],'2021-03-23T04:20:14.000Z')\n",
    "#         index = float(start_time)\n",
    "#     time_span = signals.iloc[i,2]\n",
    "#     print(index)\n",
    "#     while time_span > 0:\n",
    "#         cycle_data.at[signals.iloc[i,3],index] = signals.iloc[i,4]\n",
    "#         time_span = time_span - 0.5\n",
    "#         index += 0.5\n",
    "# #     print(index)"
   ]
  },
  {
   "cell_type": "code",
   "execution_count": 18,
   "metadata": {},
   "outputs": [],
   "source": [
    "# list(cycle_data.iloc[0])"
   ]
  },
  {
   "cell_type": "code",
   "execution_count": 19,
   "metadata": {},
   "outputs": [],
   "source": [
    "name_signal = 'ServoLoad_2_path1_OP20MAKINO_861'\n",
    "main_prog = '//CNC_MEM/USER/LIBRARY/O2100'\n",
    "machine = 'OP20MAKINO_861'\n",
    "time_start = '2021-03-23T04:20:16.500Z'\n",
    "time_end = '2021-03-23T05:20:16.500Z'\n",
    "# find_time_sec(time_start,time_end)\n",
    "query = mycol.find({\"$and\":[{\"updatedate\":{\"$gte\":time_start}}, #O2100\n",
    "                            {\"enddate\":{\"$lte\":time_end}},\n",
    "                            {\"signalname\":{'$eq':name_signal}}\n",
    "#                             {\"L1Name\":{'$eq':machine}}\n",
    "                           ]},\n",
    "                  {\"updatedate\":1,\"enddate\":1,\"timespan\":1,\"signalname\":1,\"value\":1})\n",
    "list_cur = list(query)\n",
    "new_signals = pd.DataFrame(list_cur)"
   ]
  },
  {
   "cell_type": "code",
   "execution_count": 20,
   "metadata": {},
   "outputs": [
    {
     "data": {
      "text/plain": [
       "857"
      ]
     },
     "execution_count": 20,
     "metadata": {},
     "output_type": "execute_result"
    }
   ],
   "source": [
    "new_signals.shape[0]"
   ]
  },
  {
   "cell_type": "code",
   "execution_count": 21,
   "metadata": {},
   "outputs": [],
   "source": [
    "# new_signals.head(40)"
   ]
  },
  {
   "cell_type": "code",
   "execution_count": 22,
   "metadata": {},
   "outputs": [
    {
     "data": {
      "text/plain": [
       "171.5"
      ]
     },
     "execution_count": 22,
     "metadata": {},
     "output_type": "execute_result"
    }
   ],
   "source": [
    "new_signals['timespan'].max()"
   ]
  },
  {
   "cell_type": "code",
   "execution_count": 23,
   "metadata": {},
   "outputs": [],
   "source": [
    "new_signals = new_signals.drop('_id',axis = 1)"
   ]
  },
  {
   "cell_type": "code",
   "execution_count": 24,
   "metadata": {},
   "outputs": [],
   "source": []
  },
  {
   "cell_type": "code",
   "execution_count": 62,
   "metadata": {},
   "outputs": [],
   "source": [
    "def plot_data():\n",
    "    r = np.random.random()\n",
    "    b = np.random.random()\n",
    "    g = np.random.random()\n",
    "    color = (r, g, b)\n",
    "#     plt.figure(figsize=(5,5))\n",
    "    plt.plot(time, cycle_data['ServoLoad_2_path1_OP20MAKINO_861'], color = color)"
   ]
  },
  {
   "cell_type": "code",
   "execution_count": 26,
   "metadata": {},
   "outputs": [
    {
     "data": {
      "text/plain": [
       "['ServoLoad_2_path1_OP20MAKINO_861']"
      ]
     },
     "execution_count": 26,
     "metadata": {},
     "output_type": "execute_result"
    }
   ],
   "source": [
    "lst_sign = []\n",
    "lst_sign.append(name_signal)\n",
    "lst_sign"
   ]
  },
  {
   "cell_type": "code",
   "execution_count": 27,
   "metadata": {},
   "outputs": [
    {
     "data": {
      "text/html": [
       "<div>\n",
       "<style scoped>\n",
       "    .dataframe tbody tr th:only-of-type {\n",
       "        vertical-align: middle;\n",
       "    }\n",
       "\n",
       "    .dataframe tbody tr th {\n",
       "        vertical-align: top;\n",
       "    }\n",
       "\n",
       "    .dataframe thead th {\n",
       "        text-align: right;\n",
       "    }\n",
       "</style>\n",
       "<table border=\"1\" class=\"dataframe\">\n",
       "  <thead>\n",
       "    <tr style=\"text-align: right;\">\n",
       "      <th></th>\n",
       "      <th>ServoLoad_2_path1_OP20MAKINO_861</th>\n",
       "    </tr>\n",
       "  </thead>\n",
       "  <tbody>\n",
       "    <tr>\n",
       "      <td>0.0</td>\n",
       "      <td>NaN</td>\n",
       "    </tr>\n",
       "    <tr>\n",
       "      <td>0.5</td>\n",
       "      <td>NaN</td>\n",
       "    </tr>\n",
       "    <tr>\n",
       "      <td>1.0</td>\n",
       "      <td>NaN</td>\n",
       "    </tr>\n",
       "    <tr>\n",
       "      <td>1.5</td>\n",
       "      <td>NaN</td>\n",
       "    </tr>\n",
       "    <tr>\n",
       "      <td>2.0</td>\n",
       "      <td>NaN</td>\n",
       "    </tr>\n",
       "    <tr>\n",
       "      <td>...</td>\n",
       "      <td>...</td>\n",
       "    </tr>\n",
       "    <tr>\n",
       "      <td>303.5</td>\n",
       "      <td>NaN</td>\n",
       "    </tr>\n",
       "    <tr>\n",
       "      <td>304.0</td>\n",
       "      <td>NaN</td>\n",
       "    </tr>\n",
       "    <tr>\n",
       "      <td>304.5</td>\n",
       "      <td>NaN</td>\n",
       "    </tr>\n",
       "    <tr>\n",
       "      <td>305.0</td>\n",
       "      <td>NaN</td>\n",
       "    </tr>\n",
       "    <tr>\n",
       "      <td>305.5</td>\n",
       "      <td>NaN</td>\n",
       "    </tr>\n",
       "  </tbody>\n",
       "</table>\n",
       "<p>612 rows × 1 columns</p>\n",
       "</div>"
      ],
      "text/plain": [
       "      ServoLoad_2_path1_OP20MAKINO_861\n",
       "0.0                                NaN\n",
       "0.5                                NaN\n",
       "1.0                                NaN\n",
       "1.5                                NaN\n",
       "2.0                                NaN\n",
       "...                                ...\n",
       "303.5                              NaN\n",
       "304.0                              NaN\n",
       "304.5                              NaN\n",
       "305.0                              NaN\n",
       "305.5                              NaN\n",
       "\n",
       "[612 rows x 1 columns]"
      ]
     },
     "execution_count": 27,
     "metadata": {},
     "output_type": "execute_result"
    }
   ],
   "source": [
    "cycle_data = pd.DataFrame(columns = lst_sign,index = time)\n",
    "cycle_data"
   ]
  },
  {
   "cell_type": "code",
   "execution_count": 28,
   "metadata": {},
   "outputs": [],
   "source": [
    "# 305.5 % 305.5"
   ]
  },
  {
   "cell_type": "code",
   "execution_count": 74,
   "metadata": {},
   "outputs": [
    {
     "data": {
      "image/png": "[encoded data removed]",
      "text/plain": [
       "<Figure size 432x288 with 1 Axes>"
      ]
     },
     "metadata": {
      "needs_background": "light"
     },
     "output_type": "display_data"
    },
    {
     "data": {
      "text/plain": [
       "<Figure size 576x432 with 0 Axes>"
      ]
     },
     "metadata": {},
     "output_type": "display_data"
    },
    {
     "name": "stdout",
     "output_type": "stream",
     "text": [
      "No of plots 3\n"
     ]
    }
   ],
   "source": [
    "index = 0.0\n",
    "count = 0.0\n",
    "rem_time = 0.0\n",
    "no_of_plots = 0\n",
    "start = '2021-03-23T04:20:16.500Z'\n",
    "start_time = find_time_sec(new_signals.iloc[0,0],start)\n",
    "index = float(start_time)\n",
    "for i in range(len(new_signals)):\n",
    "#     print(index)\n",
    "        \n",
    "    if (count%306 == 0.0 or index > 305.5) and index > 0.0:\n",
    "#         print('index',index)\n",
    "#         print('Plotting........')\n",
    "        plot_data()\n",
    "        no_of_plots += 1\n",
    "        if no_of_plots == 3:\n",
    "            break;\n",
    "#         plt.show()\n",
    "        index = float(find_time_sec(new_signals.iloc[i,0],new_signals.iloc[i-1,1]))\n",
    "        count = 0\n",
    "        count += index\n",
    "        cycle_data = pd.DataFrame(columns = lst_sign,index = time)\n",
    "        index = index + rem_time\n",
    "        if rem_time != 0:\n",
    "            j = 0\n",
    "            while rem_time > 0:\n",
    "                count = count + 0.5\n",
    "                cycle_data.at[j,new_signals.iloc[0,3]] = value\n",
    "                j = j+0.5\n",
    "                rem_time = rem_time - 0.5\n",
    "#         print(cycle_data.head(5))\n",
    "#         print(cycle_data.head(5))\n",
    "#         added_signals.append(signals.iloc[i,3])\n",
    "#         index = float(find_time_sec(start,new_signals.iloc[i,0]))\n",
    "    \n",
    "    time_span = new_signals.iloc[i,2]\n",
    "#     print(time_span)\n",
    "    while time_span > 0 and index <= 305.5:\n",
    "        count = count + 0.5\n",
    "        cycle_data.at[index,new_signals.iloc[i,3]] = new_signals.iloc[i,4]\n",
    "        time_span = time_span - 0.5\n",
    "        index += 0.5\n",
    "        if index == 305.5:\n",
    "            rem_time = time_span\n",
    "            value = new_signals.iloc[i,4]\n",
    "#             print(rem_time, value)\n",
    "plt.xlabel('time')\n",
    "plt.ylabel('values')\n",
    "plt.figure(figsize = (8,6))\n",
    "plt.show()\n",
    "print('No of plots',no_of_plots)"
   ]
  },
  {
   "cell_type": "code",
   "execution_count": 68,
   "metadata": {},
   "outputs": [
    {
     "data": {
      "text/html": [
       "<div>\n",
       "<style scoped>\n",
       "    .dataframe tbody tr th:only-of-type {\n",
       "        vertical-align: middle;\n",
       "    }\n",
       "\n",
       "    .dataframe tbody tr th {\n",
       "        vertical-align: top;\n",
       "    }\n",
       "\n",
       "    .dataframe thead th {\n",
       "        text-align: right;\n",
       "    }\n",
       "</style>\n",
       "<table border=\"1\" class=\"dataframe\">\n",
       "  <thead>\n",
       "    <tr style=\"text-align: right;\">\n",
       "      <th></th>\n",
       "      <th>ServoLoad_2_path1_OP20MAKINO_861</th>\n",
       "    </tr>\n",
       "  </thead>\n",
       "  <tbody>\n",
       "    <tr>\n",
       "      <td>0.0</td>\n",
       "      <td>2</td>\n",
       "    </tr>\n",
       "    <tr>\n",
       "      <td>0.5</td>\n",
       "      <td>2</td>\n",
       "    </tr>\n",
       "    <tr>\n",
       "      <td>1.0</td>\n",
       "      <td>2</td>\n",
       "    </tr>\n",
       "    <tr>\n",
       "      <td>1.5</td>\n",
       "      <td>2</td>\n",
       "    </tr>\n",
       "    <tr>\n",
       "      <td>2.0</td>\n",
       "      <td>2</td>\n",
       "    </tr>\n",
       "    <tr>\n",
       "      <td>2.5</td>\n",
       "      <td>2</td>\n",
       "    </tr>\n",
       "    <tr>\n",
       "      <td>3.0</td>\n",
       "      <td>10</td>\n",
       "    </tr>\n",
       "    <tr>\n",
       "      <td>3.5</td>\n",
       "      <td>10</td>\n",
       "    </tr>\n",
       "    <tr>\n",
       "      <td>4.0</td>\n",
       "      <td>10</td>\n",
       "    </tr>\n",
       "    <tr>\n",
       "      <td>4.5</td>\n",
       "      <td>10</td>\n",
       "    </tr>\n",
       "    <tr>\n",
       "      <td>5.0</td>\n",
       "      <td>4</td>\n",
       "    </tr>\n",
       "    <tr>\n",
       "      <td>5.5</td>\n",
       "      <td>4</td>\n",
       "    </tr>\n",
       "    <tr>\n",
       "      <td>6.0</td>\n",
       "      <td>4</td>\n",
       "    </tr>\n",
       "    <tr>\n",
       "      <td>6.5</td>\n",
       "      <td>4</td>\n",
       "    </tr>\n",
       "    <tr>\n",
       "      <td>7.0</td>\n",
       "      <td>10</td>\n",
       "    </tr>\n",
       "    <tr>\n",
       "      <td>7.5</td>\n",
       "      <td>10</td>\n",
       "    </tr>\n",
       "    <tr>\n",
       "      <td>8.0</td>\n",
       "      <td>10</td>\n",
       "    </tr>\n",
       "    <tr>\n",
       "      <td>8.5</td>\n",
       "      <td>10</td>\n",
       "    </tr>\n",
       "    <tr>\n",
       "      <td>9.0</td>\n",
       "      <td>10</td>\n",
       "    </tr>\n",
       "    <tr>\n",
       "      <td>9.5</td>\n",
       "      <td>235</td>\n",
       "    </tr>\n",
       "    <tr>\n",
       "      <td>10.0</td>\n",
       "      <td>235</td>\n",
       "    </tr>\n",
       "    <tr>\n",
       "      <td>10.5</td>\n",
       "      <td>235</td>\n",
       "    </tr>\n",
       "    <tr>\n",
       "      <td>11.0</td>\n",
       "      <td>235</td>\n",
       "    </tr>\n",
       "    <tr>\n",
       "      <td>11.5</td>\n",
       "      <td>235</td>\n",
       "    </tr>\n",
       "    <tr>\n",
       "      <td>12.0</td>\n",
       "      <td>8</td>\n",
       "    </tr>\n",
       "    <tr>\n",
       "      <td>12.5</td>\n",
       "      <td>8</td>\n",
       "    </tr>\n",
       "    <tr>\n",
       "      <td>13.0</td>\n",
       "      <td>8</td>\n",
       "    </tr>\n",
       "    <tr>\n",
       "      <td>13.5</td>\n",
       "      <td>8</td>\n",
       "    </tr>\n",
       "    <tr>\n",
       "      <td>14.0</td>\n",
       "      <td>8</td>\n",
       "    </tr>\n",
       "    <tr>\n",
       "      <td>14.5</td>\n",
       "      <td>240</td>\n",
       "    </tr>\n",
       "    <tr>\n",
       "      <td>15.0</td>\n",
       "      <td>240</td>\n",
       "    </tr>\n",
       "    <tr>\n",
       "      <td>15.5</td>\n",
       "      <td>240</td>\n",
       "    </tr>\n",
       "    <tr>\n",
       "      <td>16.0</td>\n",
       "      <td>240</td>\n",
       "    </tr>\n",
       "    <tr>\n",
       "      <td>16.5</td>\n",
       "      <td>240</td>\n",
       "    </tr>\n",
       "    <tr>\n",
       "      <td>17.0</td>\n",
       "      <td>240</td>\n",
       "    </tr>\n",
       "    <tr>\n",
       "      <td>17.5</td>\n",
       "      <td>240</td>\n",
       "    </tr>\n",
       "    <tr>\n",
       "      <td>18.0</td>\n",
       "      <td>4</td>\n",
       "    </tr>\n",
       "    <tr>\n",
       "      <td>18.5</td>\n",
       "      <td>4</td>\n",
       "    </tr>\n",
       "    <tr>\n",
       "      <td>19.0</td>\n",
       "      <td>4</td>\n",
       "    </tr>\n",
       "    <tr>\n",
       "      <td>19.5</td>\n",
       "      <td>4</td>\n",
       "    </tr>\n",
       "  </tbody>\n",
       "</table>\n",
       "</div>"
      ],
      "text/plain": [
       "     ServoLoad_2_path1_OP20MAKINO_861\n",
       "0.0                                 2\n",
       "0.5                                 2\n",
       "1.0                                 2\n",
       "1.5                                 2\n",
       "2.0                                 2\n",
       "2.5                                 2\n",
       "3.0                                10\n",
       "3.5                                10\n",
       "4.0                                10\n",
       "4.5                                10\n",
       "5.0                                 4\n",
       "5.5                                 4\n",
       "6.0                                 4\n",
       "6.5                                 4\n",
       "7.0                                10\n",
       "7.5                                10\n",
       "8.0                                10\n",
       "8.5                                10\n",
       "9.0                                10\n",
       "9.5                               235\n",
       "10.0                              235\n",
       "10.5                              235\n",
       "11.0                              235\n",
       "11.5                              235\n",
       "12.0                                8\n",
       "12.5                                8\n",
       "13.0                                8\n",
       "13.5                                8\n",
       "14.0                                8\n",
       "14.5                              240\n",
       "15.0                              240\n",
       "15.5                              240\n",
       "16.0                              240\n",
       "16.5                              240\n",
       "17.0                              240\n",
       "17.5                              240\n",
       "18.0                                4\n",
       "18.5                                4\n",
       "19.0                                4\n",
       "19.5                                4"
      ]
     },
     "execution_count": 68,
     "metadata": {},
     "output_type": "execute_result"
    }
   ],
   "source": [
    "cycle_data.head(40)"
   ]
  },
  {
   "cell_type": "code",
   "execution_count": null,
   "metadata": {},
   "outputs": [],
   "source": []
  }
 ],
 "metadata": {
  "interpreter": {
   "hash": "b3ba2566441a7c06988d0923437866b63cedc61552a5af99d1f4fb67d367b25f"
  },
  "kernelspec": {
   "display_name": "Python 3",
   "language": "python",
   "name": "python3"
  },
  "language_info": {
   "codemirror_mode": {
    "name": "ipython",
    "version": 3
   },
   "file_extension": ".py",
   "mimetype": "text/x-python",
   "name": "python",
   "nbconvert_exporter": "python",
   "pygments_lexer": "ipython3",
   "version": "3.7.4"
  }
 },
 "nbformat": 4,
 "nbformat_minor": 2
}
